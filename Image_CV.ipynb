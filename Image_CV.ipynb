{
 "cells": [
  {
   "cell_type": "code",
   "execution_count": 1,
   "id": "b018bf26",
   "metadata": {},
   "outputs": [],
   "source": [
    "# import the necessary packages\n",
    "import cv2\n"
   ]
  },
  {
   "cell_type": "code",
   "execution_count": 2,
   "id": "4ffc10f5",
   "metadata": {},
   "outputs": [
    {
     "name": "stdout",
     "output_type": "stream",
     "text": [
      "image dimensions 278x450x450\n"
     ]
    }
   ],
   "source": [
    "# read the image file (as color image)\n",
    "img = cv2.imread('catvsdog.jpg')\n",
    "print(f'image dimensions {img.shape[0]}x{img.shape[1]}x{img.shape[1]}')"
   ]
  },
  {
   "cell_type": "code",
   "execution_count": 3,
   "id": "c958aee3",
   "metadata": {},
   "outputs": [],
   "source": [
    "# read the image file (as gray scale)\n",
    "imgGray = cv2.imread('catvsdog.jpg', cv2.IMREAD_GRAYSCALE)"
   ]
  },
  {
   "cell_type": "code",
   "execution_count": null,
   "id": "35eeb8bc",
   "metadata": {},
   "outputs": [],
   "source": [
    "\n",
    "# Display the image\n",
    "cv2.imshow('Color Image', img)\n",
    "cv2.imshow('Gray Scale Image', imgGray)\n",
    "cv2.waitKey(0)\n",
    "cv2.destroyAllWindows()"
   ]
  },
  {
   "cell_type": "code",
   "execution_count": null,
   "id": "2f322636",
   "metadata": {},
   "outputs": [],
   "source": []
  }
 ],
 "metadata": {
  "kernelspec": {
   "display_name": "Python 3 (ipykernel)",
   "language": "python",
   "name": "python3"
  },
  "language_info": {
   "codemirror_mode": {
    "name": "ipython",
    "version": 3
   },
   "file_extension": ".py",
   "mimetype": "text/x-python",
   "name": "python",
   "nbconvert_exporter": "python",
   "pygments_lexer": "ipython3",
   "version": "3.9.12"
  }
 },
 "nbformat": 4,
 "nbformat_minor": 5
}
